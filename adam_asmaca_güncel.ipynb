{
  "nbformat": 4,
  "nbformat_minor": 0,
  "metadata": {
    "colab": {
      "name": "adam_asmaca_güncel.ipynb",
      "provenance": [],
      "authorship_tag": "ABX9TyNNMQBQ3EbQW2w6UEbEznko",
      "include_colab_link": true
    },
    "kernelspec": {
      "name": "python3",
      "display_name": "Python 3"
    }
  },
  "cells": [
    {
      "cell_type": "markdown",
      "metadata": {
        "id": "view-in-github",
        "colab_type": "text"
      },
      "source": [
        "<a href=\"https://colab.research.google.com/github/aysenurmert/BBY162_aysenurmert/blob/master/adam_asmaca_g%C3%BCncel.ipynb\" target=\"_parent\"><img src=\"https://colab.research.google.com/assets/colab-badge.svg\" alt=\"Open In Colab\"/></a>"
      ]
    },
    {
      "cell_type": "code",
      "metadata": {
        "id": "BbUyGfl4FSvY",
        "colab_type": "code",
        "colab": {
          "base_uri": "https://localhost:8080/",
          "height": 680
        },
        "outputId": "e9909c2f-dd90-40ad-9415-aab933f1994d"
      },
      "source": [
        "print(\"Adam asmaca oyununa hoş geldin..\")\n",
        "print(\"Bu bir meyve ismidir.\")\n",
        "iskelet =[\"\"\"\n",
        "   +---+\n",
        "   |   |\n",
        "   O   |\n",
        "   |   |\n",
        "       |\n",
        "       |\n",
        "--------\"\"\",\"\"\"\n",
        "   +---+\n",
        "   |   |\n",
        "   O   |\n",
        "  /|\\  |\n",
        "   |   |\n",
        "       |\n",
        "--------\"\"\",\"\"\"\n",
        "   +---+\n",
        "   |   |\n",
        "   O   |\n",
        "  /|\\  |\n",
        "   |   |\n",
        "  / \\  |\n",
        "--------\"\"\"]\n",
        "import random\n",
        "kelimeler = [\"böğürtlen\",\"ahududu\", \"avokado\"]\n",
        "kelime = random.choice(kelimeler)\n",
        "hak = len(iskelet)\n",
        "hata = 0\n",
        "tahmin_edilenler = []\n",
        "secilenKelime = len(kelime)\n",
        "harfBosluk = list('_'* secilenKelime)\n",
        "print(' '.join(harfBosluk), end=' ')\n",
        "\n",
        "while hak > 0:\n",
        "    tahmin = input(\"Bir harf tahmin ediniz: \")\n",
        "    if tahmin in tahmin_edilenler:\n",
        "        print(\"Harf tahminin doğru. Oyuna devam!\")\n",
        "        continue\n",
        "\n",
        "    elif len(tahmin) > 1:\n",
        "        print(\"Sadece bir harf gir:\")\n",
        "        continue\n",
        "\n",
        "    elif tahmin not in kelime:\n",
        "        print(iskelet[hata]+ \"Dikkat, 3 yanlış hakkın eksiliyor!\")\n",
        "        hata += 1\n",
        "        hak -= 1\n",
        "\n",
        "    else:\n",
        "        for i in range(len(kelime)):\n",
        "            if tahmin == kelime[i]:\n",
        "                harfBosluk[i] = tahmin\n",
        "                tahmin_edilenler.append(tahmin)\n",
        "        print(' '.join(harfBosluk), end=\" \")\n",
        "        print(\"Tahmin doğru, oyuna devam..!\")\n",
        "\n",
        "    if len(tahmin_edilenler) == len(kelime):\n",
        "        hak = -1\n",
        "if hak == 0:\n",
        "    print(\"Üzgünüm, oyunu kaybettin..!\")\n",
        "else:\n",
        "    print(\"Bravo, oyunu kazandın..!\")"
      ],
      "execution_count": 2,
      "outputs": [
        {
          "output_type": "stream",
          "text": [
            "Adam asmaca oyununa hoş geldin..\n",
            "Bu bir meyve ismidir.\n",
            "_ _ _ _ _ _ _ _ _ Bir harf tahmin ediniz: a\n",
            "\n",
            "   +---+\n",
            "   |   |\n",
            "   O   |\n",
            "   |   |\n",
            "       |\n",
            "       |\n",
            "--------Dikkat, 3 yanlış hakkın eksiliyor!\n",
            "Bir harf tahmin ediniz: ö\n",
            "_ ö _ _ _ _ _ _ _ Tahmin doğru, oyuna devam..!\n",
            "Bir harf tahmin ediniz: t\n",
            "_ ö _ _ _ t _ _ _ Tahmin doğru, oyuna devam..!\n",
            "Bir harf tahmin ediniz: k\n",
            "\n",
            "   +---+\n",
            "   |   |\n",
            "   O   |\n",
            "  /|\\  |\n",
            "   |   |\n",
            "       |\n",
            "--------Dikkat, 3 yanlış hakkın eksiliyor!\n",
            "Bir harf tahmin ediniz: l\n",
            "_ ö _ _ _ t l _ _ Tahmin doğru, oyuna devam..!\n",
            "Bir harf tahmin ediniz: n\n",
            "_ ö _ _ _ t l _ n Tahmin doğru, oyuna devam..!\n",
            "Bir harf tahmin ediniz: e\n",
            "_ ö _ _ _ t l e n Tahmin doğru, oyuna devam..!\n",
            "Bir harf tahmin ediniz: ü\n",
            "_ ö _ ü _ t l e n Tahmin doğru, oyuna devam..!\n",
            "Bir harf tahmin ediniz: b\n",
            "b ö _ ü _ t l e n Tahmin doğru, oyuna devam..!\n",
            "Bir harf tahmin ediniz: ğ\n",
            "b ö ğ ü _ t l e n Tahmin doğru, oyuna devam..!\n",
            "Bir harf tahmin ediniz: r\n",
            "b ö ğ ü r t l e n Tahmin doğru, oyuna devam..!\n",
            "Bravo, oyunu kazandın..!\n"
          ],
          "name": "stdout"
        }
      ]
    }
  ]
}