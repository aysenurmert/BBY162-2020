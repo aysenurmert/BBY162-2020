{
  "nbformat": 4,
  "nbformat_minor": 0,
  "metadata": {
    "colab": {
      "name": "kutuphane_katalogu.ipynb",
      "provenance": [],
      "collapsed_sections": [],
      "authorship_tag": "ABX9TyMzdreIXtOhv9DjpgPZWZMe",
      "include_colab_link": true
    },
    "kernelspec": {
      "name": "python3",
      "display_name": "Python 3"
    }
  },
  "cells": [
    {
      "cell_type": "markdown",
      "metadata": {
        "id": "view-in-github",
        "colab_type": "text"
      },
      "source": [
        "<a href=\"https://colab.research.google.com/github/aysenurmert/BBY162-2020/blob/master/kutuphane_katalogu.ipynb\" target=\"_parent\"><img src=\"https://colab.research.google.com/assets/colab-badge.svg\" alt=\"Open In Colab\"/></a>"
      ]
    },
    {
      "cell_type": "code",
      "metadata": {
        "id": "MN5bjUtIDG3I",
        "colab_type": "code",
        "colab": {
          "base_uri": "https://localhost:8080/",
          "height": 498
        },
        "outputId": "8b3e6e7e-50a3-450f-c8b4-7a90d5fc639f"
      },
      "source": [
        "from google.colab import drive\n",
        "drive.mount('/gdrive')\n",
        "\n",
        "dosya = \"/gdrive/My Drive/Colab Notebooks/BBY162 - Programlama ve Algoritmalar_final/veritabani.txt\"\n",
        "\n",
        "def kitap_listesi():\n",
        "  katalogListele = open(dosya, \"r\", encoding=\"utf-8\")\n",
        "  for line in katalogListele.readlines():\n",
        "    print(line+\"\\n\")\n",
        "  katalogListele.close()\n",
        "\n",
        "def kitap_ekle():\n",
        "  sisKulAdi = \"işlemler\"\n",
        "  sisKulSifre = \"kütüphaneci\"\n",
        "  girKulAdi = input(\"Kullanıcı Adı: \")\n",
        "  girKulSifre = input(\"Şifre: \")\n",
        "  if girKulAdi == sisKulAdi and girKulSifre == sisKulSifre:\n",
        "    print(\"Yeni bir kayıt giriniz.\\n\")\n",
        "  eserEkle = open(dosya, \"a\", encoding=\"utf-8\")\n",
        "  eserAdi = input(\"Eser adı: \")  \n",
        "  yazarAdi = input(\"Yazar adı: \")\n",
        "  basimYili = input(\"Basım yılı: \")      \n",
        "  ISBN = input(\"ISBN: \")\n",
        "  yayinevi = input(\"Yayınevi: \")\n",
        "  eserEkle.write(eserAdi+\"|\"+yazarAdi+\"|\"+basimYili+\"|\"+ISBN+\"|\"+yayinevi+\"\\n\")\n",
        "  print(\"Kaydı başarıyla eklediniz..\")\n",
        "  eserEkle.close()\n",
        "\n",
        "def eser_ara():\n",
        "  aramaYap = open(dosya, \"r\", encoding=\"utf-8\")\n",
        "  kitapListele = aramaYap.readlines()\n",
        "  aranan_eser = input(\"Eser adını giriniz: \")\n",
        "  for eser in kitapListele:\n",
        "    name = eser.split(\"|\")\n",
        "    if aranan_eser == name[0]:\n",
        "      print(\"Eser bilgileri: \"+name[0]+\", \"+name[1]+\", \"+name[2]+\", \"+name[3]+\", \"+name[4]+\"\\n\")\n",
        "  aramaYap.close()\n",
        "\n",
        "def guncelle():\n",
        "  katalogListele = open(dosya, \"r\", encoding=\"utf-8\")\n",
        "  kitapListele = katalogListele.readlines()\n",
        "  guncellenecek_eser = input(\"Güncellenmek istenen eser adını giriniz: \")\n",
        "  kitap_ekle()\n",
        "  katalogListele.close()\n",
        "\n",
        "def sil():\n",
        "  katalogListele = open(dosya, \"r\", encoding=\"utf-8\")\n",
        "  kitapListele = katalogListele.readlines()\n",
        "  silinecek_eser = input(\"Silinmek istenen eser adını giriniz: \")\n",
        "  print(\"Kaydı sildiniz..\")\n",
        "  katalogListele.close()\n",
        "\n",
        "\n",
        "islem = [\"katalog\", \"kayıt\", \"ara\", \"güncelle\", \"sil\", \"çıkış\"]\n",
        "while islem:\n",
        "  girilen_islem = input(\"Katalogtaki kitap listesini görüntülemek için 'katalog'\\n\"\n",
        "      \"Yeni kayıt eklemek için 'kayıt' görevini yazınız.\\n\"\n",
        "      \"Katalogda arama yapmak için 'ara' görevini yazınız.\\n\"\n",
        "      \"Katalogdaki bir kaydı güncellemek için 'güncelle' görevini yazınız.\\n\"\n",
        "      \"Katalogdaki bir kaydı silmek içim 'sil' görevini yazınız.\\n\"\n",
        "      \"Sistemden çıkmak için 'çıkış' görevini yazınız.\\n\"\n",
        "      \"Yapmak istediğiniz işlem için ilgili görevi yazınız: \")\n",
        "  \n",
        "  if girilen_islem == islem[0]:\n",
        "    print(\"Kütüphane kataloğuna hoş geldiniz..\")\n",
        "    kitap_listesi()\n",
        "  elif girilen_islem == islem[1]:\n",
        "    print(\"Kataloğa yeni bir kayıt giriniz.\")\n",
        "    kitap_ekle()\n",
        "  elif girilen_islem == islem[2]:\n",
        "    print(\"Katalogda arama yapınız.\")\n",
        "    eser_ara()\n",
        "  elif girilen_islem == islem[3]:\n",
        "    print(\"Katalogda kayıt güncelleyiniz.\")\n",
        "    guncelle()\n",
        "  elif girilen_islem == islem[4]:\n",
        "    print(\"Katalogdaki kaydı siliniz.\")\n",
        "    sil()  \n",
        "  elif girilen_islem == islem[5]:\n",
        "    break"
      ],
      "execution_count": null,
      "outputs": [
        {
          "output_type": "stream",
          "text": [
            "Drive already mounted at /gdrive; to attempt to forcibly remount, call drive.mount(\"/gdrive\", force_remount=True).\n",
            "Katalogtaki kitap listesini görüntülemek için 'katalog'\n",
            "Yeni kayıt eklemek için 'kayıt' görevini yazınız.\n",
            "Katalogda arama yapmak için 'ara' görevini yazınız.\n",
            "Katalogdaki bir kaydı güncellemek için 'güncelle' görevini yazınız.\n",
            "Katalogdaki bir kaydı silmek içim 'sil' görevini yazınız.\n",
            "Sistemden çıkmak için 'çıkış' görevini yazınız.\n",
            "Yapmak istediğiniz işlem için ilgili görevi yazınız: güncelle\n",
            "Katalogda kayıt güncelleyiniz.\n",
            "Güncellenmek istenen eser adını giriniz: Dava\n",
            "Kullanıcı Adı: işlemler\n",
            "Şifre: kütüphaneci\n",
            "Yeni bir kayıt giriniz.\n",
            "\n",
            "Eser adı: Dava\n",
            "Yazar adı: Franz Kafka\n",
            "Basım yılı: 2006\n",
            "ISBN: 97863655525\n",
            "Yayınevi: Can Yayınları\n",
            "Kaydı başarıyla eklediniz..\n"
          ],
          "name": "stdout"
        }
      ]
    }
  ]
}