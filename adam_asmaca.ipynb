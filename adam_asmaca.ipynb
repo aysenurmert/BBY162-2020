{
  "nbformat": 4,
  "nbformat_minor": 0,
  "metadata": {
    "colab": {
      "name": "adam_asmaca_güncel.ipynb",
      "provenance": [],
      "collapsed_sections": [],
      "authorship_tag": "ABX9TyMNTMvB6Sz3qB5h6phY9IwI",
      "include_colab_link": true
    },
    "kernelspec": {
      "name": "python3",
      "display_name": "Python 3"
    }
  },
  "cells": [
    {
      "cell_type": "markdown",
      "metadata": {
        "id": "view-in-github",
        "colab_type": "text"
      },
      "source": [
        "<a href=\"https://colab.research.google.com/github/aysenurmert/BBY162_aysenurmert/blob/master/adam_asmaca_g%C3%BCncel.ipynb\" target=\"_parent\"><img src=\"https://colab.research.google.com/assets/colab-badge.svg\" alt=\"Open In Colab\"/></a>"
      ]
    },
    {
      "cell_type": "code",
      "metadata": {
        "id": "BbUyGfl4FSvY",
        "colab_type": "code",
        "outputId": "1ade8b77-6c8a-4d37-8826-d71cc1bc2f20",
        "colab": {
          "base_uri": "https://localhost:8080/",
          "height": 595
        }
      },
      "source": [
        "print(\"Adam asmaca oyununa hoş geldin..\")\n",
        "print(\"Bu bir meyve ismidir.\")\n",
        "iskelet =[\"\"\"\n",
        "   +---+\n",
        "   |   |\n",
        "   O   |\n",
        "   |   |\n",
        "       |\n",
        "       |\n",
        "--------\"\"\",\"\"\"\n",
        "   +---+\n",
        "   |   |\n",
        "   O   |\n",
        "  /|\\  |\n",
        "   |   |\n",
        "       |\n",
        "--------\"\"\",\"\"\"\n",
        "   +---+\n",
        "   |   |\n",
        "   O   |\n",
        "  /|\\  |\n",
        "   |   |\n",
        "  / \\  |\n",
        "--------\"\"\"]\n",
        "import random\n",
        "kelimeler = [\"böğürtlen\",\"ahududu\", \"avokado\", \"mango\", \"kivi\", \"ananas\"]\n",
        "kelime = random.choice(kelimeler)\n",
        "hak = len(iskelet)\n",
        "hata = 0\n",
        "tahmin_edilenler = []\n",
        "secilenKelime = len(kelime)\n",
        "harfBosluk = list('_'* secilenKelime)\n",
        "print(' '.join(harfBosluk), end=' ')\n",
        "\n",
        "while hak > 0:\n",
        "    tahmin = input(\"Bir harf tahmin ediniz: \")\n",
        "    if tahmin in tahmin_edilenler:\n",
        "        print(\"Bu harfi daha önce tahmin etmiştin!\")\n",
        "        continue\n",
        "\n",
        "    elif len(tahmin) > 1:\n",
        "        print(\"Sadece bir harf gir:\")\n",
        "        continue\n",
        "\n",
        "    elif tahmin not in kelime:\n",
        "        print(iskelet[hata]+ \"Dikkat, 3 yanlış hakkın eksiliyor!\")\n",
        "        hata += 1\n",
        "        hak -= 1\n",
        "\n",
        "    else:\n",
        "        for i in range(len(kelime)):\n",
        "            if tahmin == kelime[i]:\n",
        "                harfBosluk[i] = tahmin\n",
        "                tahmin_edilenler.append(tahmin)\n",
        "        print(' '.join(harfBosluk), end=\" \")\n",
        "        print(\"Tahmin doğru, oyuna devam..!\")\n",
        "\n",
        "    if len(tahmin_edilenler) == len(kelime):\n",
        "        hak = -1\n",
        "if hak == 0:\n",
        "    print(\"Üzgünüm, oyunu kaybettin..!\")\n",
        "else:\n",
        "    print(\"Bravo, oyunu kazandın..!\")\n",
        "\n"
      ],
      "execution_count": 0,
      "outputs": [
        {
          "output_type": "stream",
          "text": [
            "Adam asmaca oyununa hoş geldin..\n",
            "Bu bir meyve ismidir.\n",
            "_ _ _ _ _ _ Bir harf tahmin ediniz: m\n",
            "\n",
            "   +---+\n",
            "   |   |\n",
            "   O   |\n",
            "   |   |\n",
            "       |\n",
            "       |\n",
            "--------Dikkat, 3 yanlış hakkın eksiliyor!\n",
            "Bir harf tahmin ediniz: a\n",
            "a _ a _ a _ Tahmin doğru, oyuna devam..!\n",
            "Bir harf tahmin ediniz: n\n",
            "a n a n a _ Tahmin doğru, oyuna devam..!\n",
            "Bir harf tahmin ediniz: t\n",
            "\n",
            "   +---+\n",
            "   |   |\n",
            "   O   |\n",
            "  /|\\  |\n",
            "   |   |\n",
            "       |\n",
            "--------Dikkat, 3 yanlış hakkın eksiliyor!\n",
            "Bir harf tahmin ediniz: u\n",
            "\n",
            "   +---+\n",
            "   |   |\n",
            "   O   |\n",
            "  /|\\  |\n",
            "   |   |\n",
            "  / \\  |\n",
            "--------Dikkat, 3 yanlış hakkın eksiliyor!\n",
            "Üzgünüm, oyunu kaybettin..!\n"
          ],
          "name": "stdout"
        }
      ]
    }
  ]
}
