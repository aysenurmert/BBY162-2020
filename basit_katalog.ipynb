{
  "nbformat": 4,
  "nbformat_minor": 0,
  "metadata": {
    "colab": {
      "name": "basit_katalog.ipynb",
      "provenance": [],
      "collapsed_sections": [],
      "authorship_tag": "ABX9TyPytPQ6AX2Uam+PmjYJWc7a",
      "include_colab_link": true
    },
    "kernelspec": {
      "name": "python3",
      "display_name": "Python 3"
    }
  },
  "cells": [
    {
      "cell_type": "markdown",
      "metadata": {
        "id": "view-in-github",
        "colab_type": "text"
      },
      "source": [
        "<a href=\"https://colab.research.google.com/github/aysenurmert/BBY162-2020/blob/master/basit_katalog.ipynb\" target=\"_parent\"><img src=\"https://colab.research.google.com/assets/colab-badge.svg\" alt=\"Open In Colab\"/></a>"
      ]
    },
    {
      "cell_type": "code",
      "metadata": {
        "id": "KGpewuFnbOQ1",
        "colab_type": "code",
        "outputId": "91b89b20-ddf8-4fa0-f8ab-327b1da43b2f",
        "colab": {
          "base_uri": "https://localhost:8080/",
          "height": 549
        }
      },
      "source": [
        "from google.colab import drive\n",
        "drive.mount('/gdrive')\n",
        "\n",
        "dosya = \"/gdrive/My Drive/Colab Notebooks/BBY162 - Programlama ve Algoritmalar/kitap_listesi.txt\"\n",
        "\n",
        "basitKatalog = \"Kütüphane kataloğuna hoş geldiniz..\"\n",
        "print(basitKatalog)\n",
        "\n",
        "def katalog():\n",
        "  katalogListele = open(dosya, \"r\", encoding=\"utf-8\")  \n",
        "  liste = []\n",
        "  for line in katalogListele.readlines():\n",
        "    print(line+\"\\n\")\n",
        "  katalogListele.close()\n",
        "  return liste\n",
        "katalog()\n",
        "\n",
        "def eser_ekle():\n",
        "  print(\"Yeni bir kayıt giriniz.\\n\")\n",
        "    \n",
        "eserAdi = input(\"Eser adı: \")\n",
        "yazarAdi = input(\"Yazar adı: \")\n",
        "basimYili = input(\"Basım yılı: \")\n",
        "ISBN = input(\"ISBN: \")\n",
        "yayinevi = input(\"Yayınevi: \")\n",
        "\n",
        "eserEkle = open(dosya, \"a\", encoding=\"utf-8\")\n",
        "eserEkle.writelines(eserAdi+\"|\")\n",
        "eserEkle.writelines(yazarAdi+\"|\")\n",
        "eserEkle.writelines(basimYili+\"|\")\n",
        "eserEkle.writelines(ISBN+\"|\")\n",
        "eserEkle.writelines(yayinevi+\"\\n\")\n",
        "eserEkle.close()\n",
        "\n",
        "eser_ekle()\n"
      ],
      "execution_count": 0,
      "outputs": [
        {
          "output_type": "stream",
          "text": [
            "Drive already mounted at /gdrive; to attempt to forcibly remount, call drive.mount(\"/gdrive\", force_remount=True).\n",
            "Kütüphane kataloğuna hoş geldiniz..\n",
            "Eser Adı|Yazar Adı|Basım Yılı|ISBN|Yayınevi\n",
            "\n",
            "\n",
            "Nar Ağacı|Nazan Bekiroğlu|2012|9786050807073|Timaş Yayınları\n",
            "\n",
            "\n",
            "Küçük Ağa|Tarık Buğra|2003|9789750501982|İletişim Yayıncılık\n",
            "\n",
            "\n",
            "Kaplumbağalar|Fakir Baykurt|2006|9789750403910|Literatür Yaıncılık\n",
            "\n",
            "\n",
            "Dava|Franz Kafka|2019|9786052169797|Turkuvaz Kitap\n",
            "\n",
            "\n",
            "İyi Hissetmek|David Burns|2015|9789759893729|PsikonetElif Şafak--Havva'nın Üç Kızı--2012--34298384004--Doğan Kitap\n",
            "\n",
            "\n",
            "Benim Adım Kırmızı-|Orhan Pamuk|2005|978635725373|Yapı Kredi Yayınları\n",
            "\n",
            "\n",
            "Mavi Ada|Buket Uzuner|2000|94039402932|Doğan Kitap\n",
            "\n",
            "\n",
            "harman|kdlks|ksdmkl|ksdkş|kdsşld\n",
            "\n",
            "\n"
          ],
          "name": "stdout"
        }
      ]
    }
  ]
}