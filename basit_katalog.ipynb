{
  "nbformat": 4,
  "nbformat_minor": 0,
  "metadata": {
    "colab": {
      "name": "basit_katalog.ipynb",
      "provenance": [],
      "collapsed_sections": [],
      "authorship_tag": "ABX9TyN/T93rTVaQhCCbecq2uoNP",
      "include_colab_link": true
    },
    "kernelspec": {
      "name": "python3",
      "display_name": "Python 3"
    }
  },
  "cells": [
    {
      "cell_type": "markdown",
      "metadata": {
        "id": "view-in-github",
        "colab_type": "text"
      },
      "source": [
        "<a href=\"https://colab.research.google.com/github/aysenurmert/BBY162-2020/blob/master/basit_katalog.ipynb\" target=\"_parent\"><img src=\"https://colab.research.google.com/assets/colab-badge.svg\" alt=\"Open In Colab\"/></a>"
      ]
    },
    {
      "cell_type": "code",
      "metadata": {
        "id": "KGpewuFnbOQ1",
        "colab_type": "code",
        "outputId": "d2281cf8-f3a7-43ed-ec27-c00c6a2bd2dc",
        "colab": {
          "base_uri": "https://localhost:8080/",
          "height": 734
        }
      },
      "source": [
        "from google.colab import drive\n",
        "drive.mount('/gdrive')\n",
        "\n",
        "dosya = \"/gdrive/My Drive/Colab Notebooks/BBY162 - Programlama ve Algoritmalar/kitap_listesi.txt\"\n",
        "\n",
        "def kitap_listesi():\n",
        "  katalogListele = open(dosya, \"r\", encoding=\"utf-8\")\n",
        "  for line in katalogListele.readlines():\n",
        "    print(line+\"\\n\")\n",
        "  katalogListele.close()\n",
        "\n",
        "def kitap_ekle():\n",
        "  sisKulAdi = \"katalog_kaydı\"\n",
        "  sisKulSifre = \"kutuphaneci\"\n",
        "  girKulAdi = input(\"Kullanıcı Adı: \")\n",
        "  girKulSifre = input(\"Şifre: \")\n",
        "  if girKulAdi == sisKulAdi and girKulSifre == sisKulSifre:\n",
        "    print(\"Yeni bir kayıt giriniz.\\n\")\n",
        "  eserEkle = open(dosya, \"a\", encoding=\"utf-8\")\n",
        "  eserAdi = input(\"Eser adı: \")  \n",
        "  yazarAdi = input(\"Yazar adı: \")\n",
        "  basimYili = input(\"Basım yılı: \")      \n",
        "  ISBN = input(\"ISBN: \")\n",
        "  yayinevi = input(\"Yayınevi: \")\n",
        "  eserEkle.write(eserAdi+\"|\"+yazarAdi+\"|\"+basimYili+\"|\"+ISBN+\"|\"+yayinevi+\"\\n\")\n",
        "  print(\"Kaydı başarıyla eklediniz..\")\n",
        "  eserEkle.close()\n",
        "\n",
        "islem = [\"katalog\", \"kayıt\", \"çıkış\"]\n",
        "while islem:\n",
        "  girilen_islem = input(\"Katalogtaki kitap listesini görüntülemek için 'katalog'\\n\"\n",
        "      \"Yeni kayıt eklemek için 'kayıt' görevini yazınız.\\n\"\n",
        "      \"Sistemden çıkmak için 'çıkış' görevini yazınız.\\n\"\n",
        "      \"Yapmak istediğiniz işlem için ilgili görevi yazınız: \")\n",
        "  \n",
        "  if girilen_islem == islem[0]:\n",
        "    print(\"Kütüphane kataloğuna hoş geldiniz..\")\n",
        "    kitap_listesi()\n",
        "  elif girilen_islem == islem[1]:\n",
        "    print(\"Kataloğa yeni bir kayıt giriniz.\")\n",
        "    kitap_ekle()\n",
        "  elif girilen_islem == islem[2]:\n",
        "    break\n"
      ],
      "execution_count": 1,
      "outputs": [
        {
          "output_type": "stream",
          "text": [
            "Go to this URL in a browser: https://accounts.google.com/o/oauth2/auth?client_id=947318989803-6bn6qk8qdgf4n4g3pfee6491hc0brc4i.apps.googleusercontent.com&redirect_uri=urn%3aietf%3awg%3aoauth%3a2.0%3aoob&response_type=code&scope=email%20https%3a%2f%2fwww.googleapis.com%2fauth%2fdocs.test%20https%3a%2f%2fwww.googleapis.com%2fauth%2fdrive%20https%3a%2f%2fwww.googleapis.com%2fauth%2fdrive.photos.readonly%20https%3a%2f%2fwww.googleapis.com%2fauth%2fpeopleapi.readonly\n",
            "\n",
            "Enter your authorization code:\n",
            "··········\n",
            "Mounted at /gdrive\n",
            "Katalogtaki kitap listesini görüntülemek için 'katalog'\n",
            "Yeni kayıt eklemek için 'kayıt' görevini yazınız.\n",
            "Sistemden çıkmak için 'çıkış' görevini yazınız.\n",
            "Yapmak istediğiniz işlem için ilgili görevi yazınız: katalog\n",
            "Kütüphane kataloğuna hoş geldiniz..\n",
            "Nar Ağacı|Nazan Bekiroğlu|2012|9786050807073|Timaş Yayınları\n",
            "\n",
            "\n",
            "Küçük Ağa|Tarık Buğra|2003|9789750501982|İletişim Yayıncılık\n",
            "\n",
            "\n",
            "Kaplumbağalar|Fakir Baykurt|2006|9789750403910|Literatür Yaıncılık\n",
            "\n",
            "\n",
            "Dava|Franz Kafka|2019|9786052169797|Turkuvaz Kitap\n",
            "\n",
            "\n",
            "İyi Hissetmek|David Burns|2015|9789759893729|Psikonet\n",
            "\n",
            "Katalogtaki kitap listesini görüntülemek için 'katalog'\n",
            "Yeni kayıt eklemek için 'kayıt' görevini yazınız.\n",
            "Sistemden çıkmak için 'çıkış' görevini yazınız.\n",
            "Yapmak istediğiniz işlem için ilgili görevi yazınız: kayıt\n",
            "Kataloğa yeni bir kayıt giriniz.\n",
            "Kullanıcı Adı: katalog_kaydı\n",
            "Şifre: kütüphaneci\n",
            "Eser adı: Benim Adım Kırmızı\n",
            "Yazar adı: Orhan Pamuk\n",
            "Basım yılı: 2005\n",
            "ISBN: 97856646662\n",
            "Yayınevi: Yapı Kredi Yayınları\n",
            "Kaydı başarıyla eklediniz..\n",
            "Katalogtaki kitap listesini görüntülemek için 'katalog'\n",
            "Yeni kayıt eklemek için 'kayıt' görevini yazınız.\n",
            "Sistemden çıkmak için 'çıkış' görevini yazınız.\n",
            "Yapmak istediğiniz işlem için ilgili görevi yazınız: çıkış\n"
          ],
          "name": "stdout"
        }
      ]
    }
  ]
}