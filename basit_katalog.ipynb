{
  "nbformat": 4,
  "nbformat_minor": 0,
  "metadata": {
    "colab": {
      "name": "basit_katalog.ipynb",
      "provenance": [],
      "collapsed_sections": [],
      "authorship_tag": "ABX9TyMLIspJO8SpBFiJPQc5QW7u",
      "include_colab_link": true
    },
    "kernelspec": {
      "name": "python3",
      "display_name": "Python 3"
    }
  },
  "cells": [
    {
      "cell_type": "markdown",
      "metadata": {
        "id": "view-in-github",
        "colab_type": "text"
      },
      "source": [
        "<a href=\"https://colab.research.google.com/github/aysenurmert/BBY162-2020/blob/master/basit_katalog.ipynb\" target=\"_parent\"><img src=\"https://colab.research.google.com/assets/colab-badge.svg\" alt=\"Open In Colab\"/></a>"
      ]
    },
    {
      "cell_type": "code",
      "metadata": {
        "id": "KGpewuFnbOQ1",
        "colab_type": "code",
        "colab": {}
      },
      "source": [
        "from google.colab import drive\n",
        "drive.mount('/gdrive')\n",
        "\n",
        "dosya = \"/gdrive/My Drive/Colab Notebooks/BBY162 - Programlama ve Algoritmalar/kitap_listesi.txt\"\n",
        "\n",
        "islem = [\"katalog\", \"kayıt\"]\n",
        "girilen_islem = input(\"Katalogtaki kitap listesini görüntülemek için 'katalog'\\n\"\n",
        "    \"Yeni kayıt eklemek için 'kayıt' görevini yazınız.\\n\"\n",
        "    \"Yapmak istediğiniz işlem için ilgili görevi yazınız: \")\n",
        "\n",
        "if girilen_islem == islem[0]:\n",
        "  print(\"Kütüphane kataloğuna hoş geldiniz..\")\n",
        "\n",
        "  katalogListele = open(dosya, \"r\", encoding=\"utf-8\")\n",
        "  for line in katalogListele.readlines():\n",
        "    print(line+\"\\n\")\n",
        "  katalogListele.close()\n",
        "\n",
        "\n",
        "if girilen_islem == islem[1]:\n",
        "  print(\"Kataloğa yeni bir kayıt giriniz.\")\n",
        "  sisKulAdi = \"katalog_kaydı\"\n",
        "  sisKulSifre = \"kutuphaneci\"\n",
        "  girKulAdi = input(\"Kullanıcı Adı: \")\n",
        "  girKulSifre = input(\"Şifre: \")\n",
        "if girKulAdi == sisKulAdi and girKulSifre == sisKulSifre:\n",
        "  print(\"Yeni bir kayıt giriniz.\\n\")\n",
        "  eserAdi = input(\"Eser adı: \")  \n",
        "  yazarAdi = input(\"Yazar adı: \")\n",
        "  basimYili = input(\"Basım yılı: \")\n",
        "  ISBN = input(\"ISBN: \")\n",
        "  yayinevi = input(\"Yayınevi: \")\n",
        "\n",
        "  eserEkle = open(dosya, \"a\", encoding=\"utf-8\")\n",
        "  eserEkle.writelines(eserAdi+\"|\")\n",
        "  eserEkle.writelines(yazarAdi+\"|\")\n",
        "  eserEkle.writelines(basimYili+\"|\")\n",
        "  eserEkle.writelines(ISBN+\"|\")\n",
        "  eserEkle.writelines(yayinevi+\"\\n\")\n",
        "  print(\"Kaydı başarıyla eklediniz..\")\n",
        "\n",
        "  eserEkle.close()\n"
      ],
      "execution_count": 0,
      "outputs": []
    }
  ]
}