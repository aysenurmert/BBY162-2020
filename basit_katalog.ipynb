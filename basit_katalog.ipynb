{
  "nbformat": 4,
  "nbformat_minor": 0,
  "metadata": {
    "colab": {
      "name": "basit_katalog.ipynb",
      "provenance": [],
      "collapsed_sections": [],
      "authorship_tag": "ABX9TyN/T93rTVaQhCCbecq2uoNP",
      "include_colab_link": true
    },
    "kernelspec": {
      "name": "python3",
      "display_name": "Python 3"
    }
  },
  "cells": [
    {
      "cell_type": "markdown",
      "metadata": {
        "id": "view-in-github",
        "colab_type": "text"
      },
      "source": [
        "<a href=\"https://colab.research.google.com/github/aysenurmert/BBY162-2020/blob/master/basit_katalog.ipynb\" target=\"_parent\"><img src=\"https://colab.research.google.com/assets/colab-badge.svg\" alt=\"Open In Colab\"/></a>"
      ]
    },
    {
      "cell_type": "code",
      "metadata": {
        "id": "KGpewuFnbOQ1",
        "colab_type": "code",
        "outputId": "db667470-52a0-4080-b0f3-d40efd5ed278",
        "colab": {
          "base_uri": "https://localhost:8080/",
          "height": 520
        }
      },
      "source": [
        "from google.colab import drive\n",
        "drive.mount('/gdrive')\n",
        "\n",
        "dosya = \"/gdrive/My Drive/Colab Notebooks/BBY162 - Programlama ve Algoritmalar/kitap_listesi.txt\"\n",
        "\n",
        "def kitap_listesi():\n",
        "  katalogListele = open(dosya, \"r\", encoding=\"utf-8\")\n",
        "  for line in katalogListele.readlines():\n",
        "    print(line+\"\\n\")\n",
        "  katalogListele.close()\n",
        "\n",
        "def kitap_ekle():\n",
        "  sisKulAdi = \"katalog_kaydı\"\n",
        "  sisKulSifre = \"kutuphaneci\"\n",
        "  girKulAdi = input(\"Kullanıcı Adı: \")\n",
        "  girKulSifre = input(\"Şifre: \")\n",
        "  if girKulAdi == sisKulAdi and girKulSifre == sisKulSifre:\n",
        "    print(\"Yeni bir kayıt giriniz.\\n\")\n",
        "  eserEkle = open(dosya, \"a\", encoding=\"utf-8\")\n",
        "  eserAdi = input(\"Eser adı: \")  \n",
        "  yazarAdi = input(\"Yazar adı: \")\n",
        "  basimYili = input(\"Basım yılı: \")      \n",
        "  ISBN = input(\"ISBN: \")\n",
        "  yayinevi = input(\"Yayınevi: \")\n",
        "  eserEkle.write(eserAdi+\"|\"+yazarAdi+\"|\"+basimYili+\"|\"+ISBN+\"|\"+yayinevi+\"\\n\")\n",
        "  print(\"Kaydı başarıyla eklediniz..\")\n",
        "  eserEkle.close()\n",
        "\n",
        "islem = [\"katalog\", \"kayıt\", \"çıkış\"]\n",
        "while islem:\n",
        "  girilen_islem = input(\"Katalogtaki kitap listesini görüntülemek için 'katalog'\\n\"\n",
        "      \"Yeni kayıt eklemek için 'kayıt' görevini yazınız.\\n\"\n",
        "      \"Sistemden çıkmak için 'çıkış' görevini yazınız.\\n\"\n",
        "      \"Yapmak istediğiniz işlem için ilgili görevi yazınız: \")\n",
        "  \n",
        "  if girilen_islem == islem[0]:\n",
        "    print(\"Kütüphane kataloğuna hoş geldiniz..\")\n",
        "    kitap_listesi()\n",
        "  elif girilen_islem == islem[1]:\n",
        "    print(\"Kataloğa yeni bir kayıt giriniz.\")\n",
        "    kitap_ekle()\n",
        "  elif girilen_islem == islem[2]:\n",
        "    break\n"
      ],
      "execution_count": 0,
      "outputs": [
        {
          "output_type": "stream",
          "text": [
            "Drive already mounted at /gdrive; to attempt to forcibly remount, call drive.mount(\"/gdrive\", force_remount=True).\n",
            "Katalogtaki kitap listesini görüntülemek için 'katalog'\n",
            "Yeni kayıt eklemek için 'kayıt' görevini yazınız.\n",
            "Sistemden çıkmak için 'çıkış' görevini yazınız.\n",
            "Yapmak istediğiniz işlem için ilgili görevi yazınız: kayıt\n",
            "Kataloğa yeni bir kayıt giriniz.\n",
            "Kullanıcı Adı: jdjj\n",
            "Şifre: ldlld\n",
            "Yanlış.\n",
            "\n"
          ],
          "name": "stdout"
        },
        {
          "output_type": "error",
          "ename": "UnboundLocalError",
          "evalue": "ignored",
          "traceback": [
            "\u001b[0;31m---------------------------------------------------------------------------\u001b[0m",
            "\u001b[0;31mUnboundLocalError\u001b[0m                         Traceback (most recent call last)",
            "\u001b[0;32m<ipython-input-12-8ebb42071a1c>\u001b[0m in \u001b[0;36m<module>\u001b[0;34m()\u001b[0m\n\u001b[1;32m     41\u001b[0m   \u001b[0;32melif\u001b[0m \u001b[0mgirilen_islem\u001b[0m \u001b[0;34m==\u001b[0m \u001b[0mislem\u001b[0m\u001b[0;34m[\u001b[0m\u001b[0;36m1\u001b[0m\u001b[0;34m]\u001b[0m\u001b[0;34m:\u001b[0m\u001b[0;34m\u001b[0m\u001b[0;34m\u001b[0m\u001b[0m\n\u001b[1;32m     42\u001b[0m     \u001b[0mprint\u001b[0m\u001b[0;34m(\u001b[0m\u001b[0;34m\"Kataloğa yeni bir kayıt giriniz.\"\u001b[0m\u001b[0;34m)\u001b[0m\u001b[0;34m\u001b[0m\u001b[0;34m\u001b[0m\u001b[0m\n\u001b[0;32m---> 43\u001b[0;31m     \u001b[0mkitap_ekle\u001b[0m\u001b[0;34m(\u001b[0m\u001b[0;34m)\u001b[0m\u001b[0;34m\u001b[0m\u001b[0;34m\u001b[0m\u001b[0m\n\u001b[0m\u001b[1;32m     44\u001b[0m   \u001b[0;32melif\u001b[0m \u001b[0mgirilen_islem\u001b[0m \u001b[0;34m==\u001b[0m \u001b[0mislem\u001b[0m\u001b[0;34m[\u001b[0m\u001b[0;36m2\u001b[0m\u001b[0;34m]\u001b[0m\u001b[0;34m:\u001b[0m\u001b[0;34m\u001b[0m\u001b[0;34m\u001b[0m\u001b[0m\n\u001b[1;32m     45\u001b[0m     \u001b[0;32mbreak\u001b[0m\u001b[0;34m\u001b[0m\u001b[0;34m\u001b[0m\u001b[0m\n",
            "\u001b[0;32m<ipython-input-12-8ebb42071a1c>\u001b[0m in \u001b[0;36mkitap_ekle\u001b[0;34m()\u001b[0m\n\u001b[1;32m     27\u001b[0m   \u001b[0;32melse\u001b[0m\u001b[0;34m:\u001b[0m\u001b[0;34m\u001b[0m\u001b[0;34m\u001b[0m\u001b[0m\n\u001b[1;32m     28\u001b[0m     \u001b[0mprint\u001b[0m\u001b[0;34m(\u001b[0m\u001b[0;34m\"Yanlış.\\n\"\u001b[0m\u001b[0;34m)\u001b[0m\u001b[0;34m\u001b[0m\u001b[0;34m\u001b[0m\u001b[0m\n\u001b[0;32m---> 29\u001b[0;31m   \u001b[0meserEkle\u001b[0m\u001b[0;34m.\u001b[0m\u001b[0mclose\u001b[0m\u001b[0;34m(\u001b[0m\u001b[0;34m)\u001b[0m\u001b[0;34m\u001b[0m\u001b[0;34m\u001b[0m\u001b[0m\n\u001b[0m\u001b[1;32m     30\u001b[0m \u001b[0;34m\u001b[0m\u001b[0m\n\u001b[1;32m     31\u001b[0m \u001b[0mislem\u001b[0m \u001b[0;34m=\u001b[0m \u001b[0;34m[\u001b[0m\u001b[0;34m\"katalog\"\u001b[0m\u001b[0;34m,\u001b[0m \u001b[0;34m\"kayıt\"\u001b[0m\u001b[0;34m,\u001b[0m \u001b[0;34m\"çıkış\"\u001b[0m\u001b[0;34m]\u001b[0m\u001b[0;34m\u001b[0m\u001b[0;34m\u001b[0m\u001b[0m\n",
            "\u001b[0;31mUnboundLocalError\u001b[0m: local variable 'eserEkle' referenced before assignment"
          ]
        }
      ]
    }
  ]
}