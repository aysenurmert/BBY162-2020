{
  "nbformat": 4,
  "nbformat_minor": 0,
  "metadata": {
    "colab": {
      "name": "basit_katalog.ipynb",
      "provenance": [],
      "collapsed_sections": [],
      "authorship_tag": "ABX9TyN/T93rTVaQhCCbecq2uoNP",
      "include_colab_link": true
    },
    "kernelspec": {
      "name": "python3",
      "display_name": "Python 3"
    }
  },
  "cells": [
    {
      "cell_type": "markdown",
      "metadata": {
        "id": "view-in-github",
        "colab_type": "text"
      },
      "source": [
        "<a href=\"https://colab.research.google.com/github/aysenurmert/BBY162-2020/blob/master/basit_katalog.ipynb\" target=\"_parent\"><img src=\"https://colab.research.google.com/assets/colab-badge.svg\" alt=\"Open In Colab\"/></a>"
      ]
    },
    {
      "cell_type": "code",
      "metadata": {
        "id": "KGpewuFnbOQ1",
        "colab_type": "code",
        "colab": {}
      },
      "source": [
        "from google.colab import drive\n",
        "drive.mount('/gdrive')\n",
        "\n",
        "dosya = \"/gdrive/My Drive/Colab Notebooks/BBY162 - Programlama ve Algoritmalar/kitap_listesi.txt\"\n",
        "\n",
        "def kitap_listesi():\n",
        "  katalogListele = open(dosya, \"r\", encoding=\"utf-8\")\n",
        "  for line in katalogListele.readlines():\n",
        "    print(line+\"\\n\")\n",
        "  katalogListele.close()\n",
        "\n",
        "def kitap_ekle():\n",
        "  sisKulAdi = \"katalog_kaydı\"\n",
        "  sisKulSifre = \"kutuphaneci\"\n",
        "  girKulAdi = input(\"Kullanıcı Adı: \")\n",
        "  girKulSifre = input(\"Şifre: \")\n",
        "  if girKulAdi == sisKulAdi and girKulSifre == sisKulSifre:\n",
        "    print(\"Yeni bir kayıt giriniz.\\n\")\n",
        "  eserEkle = open(dosya, \"a\", encoding=\"utf-8\")\n",
        "  eserAdi = input(\"Eser adı: \")  \n",
        "  yazarAdi = input(\"Yazar adı: \")\n",
        "  basimYili = input(\"Basım yılı: \")      \n",
        "  ISBN = input(\"ISBN: \")\n",
        "  yayinevi = input(\"Yayınevi: \")\n",
        "  eserEkle.write(eserAdi+\"|\"+yazarAdi+\"|\"+basimYili+\"|\"+ISBN+\"|\"+yayinevi+\"\\n\")\n",
        "  print(\"Kaydı başarıyla eklediniz..\")\n",
        "  eserEkle.close()\n",
        "\n",
        "islem = [\"katalog\", \"kayıt\", \"çıkış\"]\n",
        "while islem:\n",
        "  girilen_islem = input(\"Katalogtaki kitap listesini görüntülemek için 'katalog'\\n\"\n",
        "      \"Yeni kayıt eklemek için 'kayıt' görevini yazınız.\\n\"\n",
        "      \"Sistemden çıkmak için 'çıkış' görevini yazınız.\\n\"\n",
        "      \"Yapmak istediğiniz işlem için ilgili görevi yazınız: \")\n",
        "  \n",
        "  if girilen_islem == islem[0]:\n",
        "    print(\"Kütüphane kataloğuna hoş geldiniz..\")\n",
        "    kitap_listesi()\n",
        "  elif girilen_islem == islem[1]:\n",
        "    print(\"Kataloğa yeni bir kayıt giriniz.\")\n",
        "    kitap_ekle()\n",
        "  elif girilen_islem == islem[2]:\n",
        "    break\n"
      ],
      "execution_count": 0,
      "outputs": []
    }
  ]
}